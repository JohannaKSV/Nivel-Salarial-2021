{
 "cells": [
  {
   "cell_type": "code",
   "execution_count": 4,
   "id": "6eab678a",
   "metadata": {},
   "outputs": [
    {
     "name": "stdout",
     "output_type": "stream",
     "text": [
      "Collecting rapidfuzz\n",
      "  Downloading rapidfuzz-3.12.1-cp311-cp311-win_amd64.whl.metadata (11 kB)\n",
      "Downloading rapidfuzz-3.12.1-cp311-cp311-win_amd64.whl (1.6 MB)\n",
      "   ---------------------------------------- 0.0/1.6 MB ? eta -:--:--\n",
      "   - -------------------------------------- 0.0/1.6 MB 991.0 kB/s eta 0:00:02\n",
      "   --------- ------------------------------ 0.4/1.6 MB 4.0 MB/s eta 0:00:01\n",
      "   --------------------------- ------------ 1.1/1.6 MB 8.0 MB/s eta 0:00:01\n",
      "   ---------------------------------------- 1.6/1.6 MB 9.5 MB/s eta 0:00:00\n",
      "Installing collected packages: rapidfuzz\n",
      "Successfully installed rapidfuzz-3.12.1\n"
     ]
    },
    {
     "name": "stderr",
     "output_type": "stream",
     "text": [
      "\n",
      "[notice] A new release of pip is available: 24.0 -> 25.0\n",
      "[notice] To update, run: python.exe -m pip install --upgrade pip\n"
     ]
    }
   ],
   "source": [
    "!pip install rapidfuzz"
   ]
  },
  {
   "cell_type": "code",
   "execution_count": 8,
   "id": "ba789125",
   "metadata": {},
   "outputs": [
    {
     "name": "stderr",
     "output_type": "stream",
     "text": [
      "C:\\Users\\User\\AppData\\Local\\Temp\\ipykernel_6520\\719342158.py:64: SettingWithCopyWarning: \n",
      "A value is trying to be set on a copy of a slice from a DataFrame.\n",
      "Try using .loc[row_indexer,col_indexer] = value instead\n",
      "\n",
      "See the caveats in the documentation: https://pandas.pydata.org/pandas-docs/stable/user_guide/indexing.html#returning-a-view-versus-a-copy\n",
      "  df[column_name] = df[column_name].map(standardized_names)\n"
     ]
    },
    {
     "name": "stdout",
     "output_type": "stream",
     "text": [
      "Archivo procesado y guardado como 'ciudades_estandarizadas.xlsx'\n"
     ]
    }
   ],
   "source": [
    "import pandas as pd\n",
    "import zipfile\n",
    "import requests\n",
    "from rapidfuzz import process\n",
    "\n",
    "def get_free_city_list():\n",
    "    \"\"\"\n",
    "    Obtiene una lista de ciudades válidas desde una fuente gratuita como GeoNames o SimpleMaps.\n",
    "    \"\"\"\n",
    "    url = \"https://simplemaps.com/static/data/world-cities/basic/simplemaps_worldcities_basicv1.75.zip\"\n",
    "    \n",
    "    # Descargar y extraer el archivo ZIP\n",
    "    zip_file_path = \"simplemaps_worldcities_basicv1.75.zip\"\n",
    "    with requests.get(url) as r:\n",
    "        with open(zip_file_path, 'wb') as f:\n",
    "            f.write(r.content)\n",
    "    \n",
    "    # Extraer el archivo Excel del ZIP\n",
    "    with zipfile.ZipFile(zip_file_path, 'r') as zip_ref:\n",
    "        zip_ref.extract('worldcities.xlsx')  # Especificar el archivo Excel\n",
    "    \n",
    "    # Leer el archivo Excel con pandas\n",
    "    df_cities = pd.read_excel('worldcities.xlsx', usecols=[0])  # Suponiendo que la primera columna tiene los nombres de ciudades\n",
    "    return df_cities[\"city\"].dropna().str.title().tolist()\n",
    "\n",
    "def is_valid_city(city_name, valid_city_list):\n",
    "    \"\"\"\n",
    "    Verifica si el nombre es una ciudad válida comparándolo con una lista de ciudades conocidas.\n",
    "    \"\"\"\n",
    "    result = process.extractOne(city_name, valid_city_list, score_cutoff=85)\n",
    "    \n",
    "    # Verificar si se encontró un match\n",
    "    if result:\n",
    "        match, score, _ = result  # extraemos solo los dos primeros valores (match y score)\n",
    "        return match is not None\n",
    "    return False\n",
    "\n",
    "def standardize_city_names(df, column_name, valid_city_list):\n",
    "    \"\"\"\n",
    "    Estandariza los nombres de ciudades en una columna específica de un DataFrame.\n",
    "    - Convierte a formato título (capitalizando cada palabra).\n",
    "    - Elimina espacios innecesarios.\n",
    "    - Corrige nombres similares usando coincidencia difusa.\n",
    "    - Filtra registros que no sean ciudades válidas.\n",
    "    - Conserva la columna con el nombre original.\n",
    "    \"\"\"\n",
    "    df[\"Original_\" + column_name] = df[column_name]  # Guardar la columna original\n",
    "    df[column_name] = df[column_name].str.strip().str.title()\n",
    "    \n",
    "    # Filtrar las ciudades válidas\n",
    "    df = df[df[column_name].apply(lambda city: is_valid_city(city, valid_city_list))]\n",
    "    \n",
    "    unique_cities = df[column_name].unique()\n",
    "    standardized_names = {}\n",
    "    \n",
    "    for city in unique_cities:\n",
    "        result = process.extractOne(city, standardized_names.keys(), score_cutoff=85)\n",
    "        if result:\n",
    "            match, _, _ = result  # Extraer solo el match\n",
    "            standardized_names[city] = standardized_names[match]\n",
    "        else:\n",
    "            standardized_names[city] = city\n",
    "    \n",
    "    df[column_name] = df[column_name].map(standardized_names)\n",
    "    return df\n",
    "\n",
    "# Cargar el archivo Excel\n",
    "df = pd.read_excel(\"ciudades.xlsx\")\n",
    "\n",
    "# Obtener lista de ciudades válidas de una fuente gratuita\n",
    "valid_city_list = get_free_city_list()\n",
    "\n",
    "# Aplicar la estandarización y filtrado\n",
    "df = standardize_city_names(df, \"City\", valid_city_list)\n",
    "\n",
    "# Guardar el archivo con los nombres estandarizados\n",
    "df.to_excel(\"ciudades_estandarizadas.xlsx\", index=False)\n",
    "\n",
    "print(\"Archivo procesado y guardado como 'ciudades_estandarizadas.xlsx'\")"
   ]
  },
  {
   "cell_type": "code",
   "execution_count": 12,
   "id": "80f7e42b",
   "metadata": {},
   "outputs": [
    {
     "name": "stdout",
     "output_type": "stream",
     "text": [
      "Archivo procesado y guardado como 'ciudades_estandarizadas2.xlsx'\n"
     ]
    },
    {
     "name": "stderr",
     "output_type": "stream",
     "text": [
      "C:\\Users\\User\\AppData\\Local\\Temp\\ipykernel_6520\\719342158.py:64: SettingWithCopyWarning: \n",
      "A value is trying to be set on a copy of a slice from a DataFrame.\n",
      "Try using .loc[row_indexer,col_indexer] = value instead\n",
      "\n",
      "See the caveats in the documentation: https://pandas.pydata.org/pandas-docs/stable/user_guide/indexing.html#returning-a-view-versus-a-copy\n",
      "  df[column_name] = df[column_name].map(standardized_names)\n"
     ]
    }
   ],
   "source": [
    "# Cargar el archivo Excel\n",
    "df = pd.read_excel(\"ciudades2.xlsx\")\n",
    "\n",
    "# Obtener lista de ciudades válidas de una fuente gratuita\n",
    "valid_city_list = get_free_city_list()\n",
    "\n",
    "# Aplicar la estandarización y filtrado\n",
    "df = standardize_city_names(df, \"City\", valid_city_list)\n",
    "\n",
    "# Guardar el archivo con los nombres estandarizados\n",
    "df.to_excel(\"ciudades_estandarizadas2.xlsx\", index=False)\n",
    "\n",
    "print(\"Archivo procesado y guardado como 'ciudades_estandarizadas2.xlsx'\")"
   ]
  },
  {
   "cell_type": "code",
   "execution_count": null,
   "id": "44558110",
   "metadata": {},
   "outputs": [],
   "source": []
  }
 ],
 "metadata": {
  "kernelspec": {
   "display_name": "Python 3 (ipykernel)",
   "language": "python",
   "name": "python3"
  },
  "language_info": {
   "codemirror_mode": {
    "name": "ipython",
    "version": 3
   },
   "file_extension": ".py",
   "mimetype": "text/x-python",
   "name": "python",
   "nbconvert_exporter": "python",
   "pygments_lexer": "ipython3",
   "version": "3.11.5"
  }
 },
 "nbformat": 4,
 "nbformat_minor": 5
}
